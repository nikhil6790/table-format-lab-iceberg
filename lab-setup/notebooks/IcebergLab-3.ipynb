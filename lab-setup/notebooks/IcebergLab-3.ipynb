{
 "cells": [
  {
   "cell_type": "markdown",
   "id": "4529a790-8425-4600-841a-4b094b82eaa8",
   "metadata": {},
   "source": [
    "# Iceberg Lab \n",
    "## Unit 3: CRUD Support\n",
    "\n",
    "This lab is powered by Dataproc Serverless Spark.\n",
    "\n",
    "In the previous unit, we -\n",
    "1. Create Iceberg table in Hadoop Catalog\n",
    "2. Explore folder structure and version contorl in Hadoop Catalog\n",
    "3. Create Partitioned and Unpartitioned Icberg Table in Hive Catalog\n",
    "4. Explore folder structure in Hive Catalog\n",
    "5. Explore table descriptions and metadata files for tables in both catalogs\n",
    "\n",
    "\n",
    "In this unit, we will learn how to -\n",
    "1. Delete a record and study the metadata log\n",
    "2. Insert a record and study the metadata log\n",
    "3. Update a record and study the metadata log\n",
    "4. Insert Overwrite from a source table and study the metadata log\n",
    "5. Merge from a source table and study the metadata log "
   ]
  },
  {
   "cell_type": "markdown",
   "id": "1a31c4fd-d465-4f52-8e56-3775bf499abc",
   "metadata": {},
   "source": [
    "### 1. Imports"
   ]
  },
  {
   "cell_type": "code",
   "execution_count": 2,
   "id": "1321bce9-178c-4065-8187-0a5728c1a370",
   "metadata": {},
   "outputs": [],
   "source": [
    "from pyspark.sql.functions import col\n",
    "from pyspark.sql import SparkSession\n",
    "\n",
    "import warnings\n",
    "warnings.filterwarnings('ignore')"
   ]
  },
  {
   "cell_type": "markdown",
   "id": "ed295a74-ed1d-4b5d-831a-1b5dcf73c36f",
   "metadata": {},
   "source": [
    "### 2. Create a Spark session powered by Cloud Dataproc "
   ]
  },
  {
   "cell_type": "code",
   "execution_count": 3,
   "id": "b383d5ab-a0b9-45ab-a232-34d88f2a0065",
   "metadata": {},
   "outputs": [
    {
     "data": {
      "text/html": [
       "\n",
       "            <div>\n",
       "                <p><b>SparkSession - hive</b></p>\n",
       "                \n",
       "        <div>\n",
       "            <p><b>SparkContext</b></p>\n",
       "\n",
       "            <p><a href=\"http://gdpic-srvls-session-6f0318c1-a7df-4fe3-94cf-9975cfbf72e0-m.c.nikhim-iceberg-lab.internal:4040\">Spark UI</a></p>\n",
       "\n",
       "            <dl>\n",
       "              <dt>Version</dt>\n",
       "                <dd><code>v3.2.3</code></dd>\n",
       "              <dt>Master</dt>\n",
       "                <dd><code>spark://gdpic-srvls-session-6f0318c1-a7df-4fe3-94cf-9975cfbf72e0-m:7077</code></dd>\n",
       "              <dt>AppName</dt>\n",
       "                <dd><code>PySparkShell</code></dd>\n",
       "            </dl>\n",
       "        </div>\n",
       "        \n",
       "            </div>\n",
       "        "
      ],
      "text/plain": [
       "<pyspark.sql.session.SparkSession at 0x7f98936b7880>"
      ]
     },
     "execution_count": 3,
     "metadata": {},
     "output_type": "execute_result"
    }
   ],
   "source": [
    "spark = SparkSession.builder.appName('Loan Analysis').getOrCreate()\n",
    "spark.sparkContext.setLogLevel(\"WARN\")\n",
    "spark"
   ]
  },
  {
   "cell_type": "markdown",
   "id": "63cd13e6-f3f5-4f2c-b4fc-d7e2660c6206",
   "metadata": {},
   "source": [
    "### 3. Declare variables"
   ]
  },
  {
   "cell_type": "code",
   "execution_count": 4,
   "id": "5596e31b-749a-4702-8879-6f05f9ff0c2d",
   "metadata": {},
   "outputs": [
    {
     "name": "stdout",
     "output_type": "stream",
     "text": [
      "PROJECT_ID:  nikhim-iceberg-lab\n"
     ]
    }
   ],
   "source": [
    "project_id_output = !gcloud config list --format \"value(core.project)\" 2>/dev/null\n",
    "PROJECT_ID = project_id_output[0]\n",
    "print(\"PROJECT_ID: \", PROJECT_ID)"
   ]
  },
  {
   "cell_type": "code",
   "execution_count": 5,
   "id": "471c6743-a058-462b-851a-f34323f36243",
   "metadata": {},
   "outputs": [
    {
     "name": "stdout",
     "output_type": "stream",
     "text": [
      "PROJECT_NAME:  nikhim-iceberg-lab\n"
     ]
    }
   ],
   "source": [
    "project_name_output = !gcloud projects describe $PROJECT_ID | grep name | cut -d':' -f2 | xargs\n",
    "PROJECT_NAME = project_name_output[0]\n",
    "print(\"PROJECT_NAME: \", PROJECT_NAME)"
   ]
  },
  {
   "cell_type": "code",
   "execution_count": 6,
   "id": "61929dc6-a083-433c-8a13-3d39d9c4a4a1",
   "metadata": {},
   "outputs": [
    {
     "name": "stdout",
     "output_type": "stream",
     "text": [
      "PROJECT_NUMBER:  928505941962\n"
     ]
    }
   ],
   "source": [
    "project_number_output = !gcloud projects describe $PROJECT_ID | grep projectNumber | cut -d':' -f2 | xargs\n",
    "PROJECT_NUMBER = project_number_output[0]\n",
    "print(\"PROJECT_NUMBER: \", PROJECT_NUMBER)"
   ]
  },
  {
   "cell_type": "code",
   "execution_count": 7,
   "id": "f8b79fd2-5243-41a4-ae87-e7f9dd87cf20",
   "metadata": {},
   "outputs": [
    {
     "name": "stdout",
     "output_type": "stream",
     "text": [
      "HIVE_METASTORE_WAREHOUSE_DIR gs://gcs-bucket-iceberg-hms-928505941962-71d67f3e-cf27-4b25-a996-86a/hive-warehouse\n"
     ]
    }
   ],
   "source": [
    "DPMS_NAME=f\"iceberg-hms-{PROJECT_NUMBER}\"\n",
    "LOCATION=\"us-central1\"\n",
    "\n",
    "metastore_dir = !gcloud metastore services describe $DPMS_NAME --location $LOCATION |grep 'hive.metastore.warehouse.dir'| cut -d':' -f2- | xargs \n",
    "HIVE_METASTORE_WAREHOUSE_DIR = metastore_dir[0]\n",
    "\n",
    "print(\"HIVE_METASTORE_WAREHOUSE_DIR\",HIVE_METASTORE_WAREHOUSE_DIR)"
   ]
  },
  {
   "cell_type": "code",
   "execution_count": 8,
   "id": "aee0e9a2-545b-4f04-86ef-894e877519c2",
   "metadata": {},
   "outputs": [
    {
     "name": "stdout",
     "output_type": "stream",
     "text": [
      "loan_db.loans_by_state_iceberg\n"
     ]
    }
   ],
   "source": [
    "TABLE_NAME=\"loans_by_state_iceberg\"\n",
    "DB_NAME=\"loan_db\"\n",
    "#fully qualified table name\n",
    "FQTN=f\"{DB_NAME}.{TABLE_NAME}\"\n",
    "print(\"Fully quailified table name :\",FQTN)"
   ]
  },
  {
   "cell_type": "code",
   "execution_count": 9,
   "id": "97b70135-a0e3-4f5b-a917-086775bc2d49",
   "metadata": {},
   "outputs": [
    {
     "name": "stdout",
     "output_type": "stream",
     "text": [
      "gs://gcs-bucket-iceberg-hms-928505941962-71d67f3e-cf27-4b25-a996-86a/hive-warehouse/loan_db.db/loans_by_state_iceberg/:\n",
      "\n",
      "gs://gcs-bucket-iceberg-hms-928505941962-71d67f3e-cf27-4b25-a996-86a/hive-warehouse/loan_db.db/loans_by_state_iceberg/data/:\n",
      "gs://gcs-bucket-iceberg-hms-928505941962-71d67f3e-cf27-4b25-a996-86a/hive-warehouse/loan_db.db/loans_by_state_iceberg/data/00000-2-b2d1021e-d3ad-4aff-baa7-1c740e8a3144-00001.parquet\n",
      "\n",
      "gs://gcs-bucket-iceberg-hms-928505941962-71d67f3e-cf27-4b25-a996-86a/hive-warehouse/loan_db.db/loans_by_state_iceberg/metadata/:\n",
      "gs://gcs-bucket-iceberg-hms-928505941962-71d67f3e-cf27-4b25-a996-86a/hive-warehouse/loan_db.db/loans_by_state_iceberg/metadata/00000-e9f97377-9cf7-4d6b-a97f-cde34a16cb51.metadata.json\n",
      "gs://gcs-bucket-iceberg-hms-928505941962-71d67f3e-cf27-4b25-a996-86a/hive-warehouse/loan_db.db/loans_by_state_iceberg/metadata/d37b2f20-215b-4690-9fdf-1e59a8e68f24-m0.avro\n",
      "gs://gcs-bucket-iceberg-hms-928505941962-71d67f3e-cf27-4b25-a996-86a/hive-warehouse/loan_db.db/loans_by_state_iceberg/metadata/snap-3648627921780331930-1-d37b2f20-215b-4690-9fdf-1e59a8e68f24.avro\n"
     ]
    }
   ],
   "source": [
    "# Checking the initial folder structure\n",
    "\n",
    "!gsutil ls -r {HIVE_METASTORE_WAREHOUSE_DIR}/loan_db.db/{TABLE_NAME}/"
   ]
  },
  {
   "cell_type": "markdown",
   "id": "ed74d358-e90b-46d0-b81c-1e29c25ccac5",
   "metadata": {},
   "source": [
    "### 4. DELETE operation"
   ]
  },
  {
   "cell_type": "code",
   "execution_count": 10,
   "id": "5e1e1753-2ef1-47cb-bd51-a44f79630c1b",
   "metadata": {},
   "outputs": [
    {
     "name": "stderr",
     "output_type": "stream",
     "text": [
      "ivysettings.xml file not found in HIVE_HOME or HIVE_CONF_DIR,/etc/spark/conf/ivysettings.xml will be used\n",
      "[Stage 0:>                                                          (0 + 1) / 1]\r"
     ]
    },
    {
     "name": "stdout",
     "output_type": "stream",
     "text": [
      "+----------+----------+\n",
      "|addr_state|loan_count|\n",
      "+----------+----------+\n",
      "|AZ        |10318     |\n",
      "|SC        |5460      |\n",
      "|LA        |5284      |\n",
      "|MN        |8031      |\n",
      "|NJ        |16367     |\n",
      "|DC        |1059      |\n",
      "|OR        |5258      |\n",
      "|VA        |12775     |\n",
      "|RI        |1968      |\n",
      "|KY        |4287      |\n",
      "|WY        |964       |\n",
      "|NH        |2148      |\n",
      "|MI        |11638     |\n",
      "|NV        |6309      |\n",
      "|WI        |5798      |\n",
      "|ID        |522       |\n",
      "|CA        |62090     |\n",
      "|CT        |6767      |\n",
      "|NE        |1299      |\n",
      "|MT        |1220      |\n",
      "+----------+----------+\n",
      "only showing top 20 rows\n",
      "\n"
     ]
    },
    {
     "name": "stderr",
     "output_type": "stream",
     "text": [
      "                                                                                \r"
     ]
    }
   ],
   "source": [
    "spark.sql(f\"SELECT * FROM {FQTN}\").show(truncate=False)"
   ]
  },
  {
   "cell_type": "code",
   "execution_count": 12,
   "id": "1f7f5fb8-70cc-4a36-be78-9158c74ff165",
   "metadata": {},
   "outputs": [
    {
     "name": "stderr",
     "output_type": "stream",
     "text": [
      "                                                                                \r"
     ]
    },
    {
     "name": "stdout",
     "output_type": "stream",
     "text": [
      "++\n",
      "||\n",
      "++\n",
      "++\n",
      "\n"
     ]
    }
   ],
   "source": [
    "spark.sql(f\"DELETE FROM {FQTN} WHERE addr_state='AZ'\").show(truncate=False)"
   ]
  },
  {
   "cell_type": "code",
   "execution_count": 13,
   "id": "fe5fe9c6-bcb7-4b28-b989-cd8dac4df38d",
   "metadata": {},
   "outputs": [
    {
     "name": "stdout",
     "output_type": "stream",
     "text": [
      "+----------+----------+\n",
      "|addr_state|loan_count|\n",
      "+----------+----------+\n",
      "+----------+----------+\n",
      "\n"
     ]
    }
   ],
   "source": [
    "spark.sql(f\"SELECT * FROM {FQTN} WHERE addr_state='AZ'\").show(truncate=False)"
   ]
  },
  {
   "cell_type": "code",
   "execution_count": 14,
   "id": "98f13764-d150-46fe-ad8d-beb3f7267029",
   "metadata": {},
   "outputs": [
    {
     "name": "stdout",
     "output_type": "stream",
     "text": [
      "gs://gcs-bucket-iceberg-hms-928505941962-71d67f3e-cf27-4b25-a996-86a/hive-warehouse/loan_db.db/loans_by_state_iceberg/:\n",
      "\n",
      "gs://gcs-bucket-iceberg-hms-928505941962-71d67f3e-cf27-4b25-a996-86a/hive-warehouse/loan_db.db/loans_by_state_iceberg/data/:\n",
      "gs://gcs-bucket-iceberg-hms-928505941962-71d67f3e-cf27-4b25-a996-86a/hive-warehouse/loan_db.db/loans_by_state_iceberg/data/00000-2-b2d1021e-d3ad-4aff-baa7-1c740e8a3144-00001.parquet\n",
      "gs://gcs-bucket-iceberg-hms-928505941962-71d67f3e-cf27-4b25-a996-86a/hive-warehouse/loan_db.db/loans_by_state_iceberg/data/00054-4-595dbb6c-4517-4463-91be-a1b513cf82f2-00001.parquet\n",
      "\n",
      "gs://gcs-bucket-iceberg-hms-928505941962-71d67f3e-cf27-4b25-a996-86a/hive-warehouse/loan_db.db/loans_by_state_iceberg/metadata/:\n",
      "gs://gcs-bucket-iceberg-hms-928505941962-71d67f3e-cf27-4b25-a996-86a/hive-warehouse/loan_db.db/loans_by_state_iceberg/metadata/00000-e9f97377-9cf7-4d6b-a97f-cde34a16cb51.metadata.json\n",
      "gs://gcs-bucket-iceberg-hms-928505941962-71d67f3e-cf27-4b25-a996-86a/hive-warehouse/loan_db.db/loans_by_state_iceberg/metadata/00001-3278c0db-1d9d-4483-9b6f-e6fe9bc799c1.metadata.json\n",
      "gs://gcs-bucket-iceberg-hms-928505941962-71d67f3e-cf27-4b25-a996-86a/hive-warehouse/loan_db.db/loans_by_state_iceberg/metadata/b4bce2b6-d0e0-440f-a879-f2cc876fe580-m0.avro\n",
      "gs://gcs-bucket-iceberg-hms-928505941962-71d67f3e-cf27-4b25-a996-86a/hive-warehouse/loan_db.db/loans_by_state_iceberg/metadata/b4bce2b6-d0e0-440f-a879-f2cc876fe580-m1.avro\n",
      "gs://gcs-bucket-iceberg-hms-928505941962-71d67f3e-cf27-4b25-a996-86a/hive-warehouse/loan_db.db/loans_by_state_iceberg/metadata/d37b2f20-215b-4690-9fdf-1e59a8e68f24-m0.avro\n",
      "gs://gcs-bucket-iceberg-hms-928505941962-71d67f3e-cf27-4b25-a996-86a/hive-warehouse/loan_db.db/loans_by_state_iceberg/metadata/snap-3648627921780331930-1-d37b2f20-215b-4690-9fdf-1e59a8e68f24.avro\n",
      "gs://gcs-bucket-iceberg-hms-928505941962-71d67f3e-cf27-4b25-a996-86a/hive-warehouse/loan_db.db/loans_by_state_iceberg/metadata/snap-5222601969543758311-1-b4bce2b6-d0e0-440f-a879-f2cc876fe580.avro\n"
     ]
    }
   ],
   "source": [
    "# Explore the table folder contents after DELETE Operation\n",
    "!gsutil ls -r $HIVE_METASTORE_WAREHOUSE_DIR/loan_db.db/{TABLE_NAME}/"
   ]
  },
  {
   "cell_type": "markdown",
   "id": "aa45879a-e9cc-42eb-b8ad-5011bd92febb",
   "metadata": {},
   "source": [
    "**NOTE:** \n",
    "1. In Data folder, a new  parquet file is added which has all records of addr_state=\"AZ\" removed\n",
    "2. In Metadata folder, we have new metadata, manifest lists and manifest files "
   ]
  },
  {
   "cell_type": "code",
   "execution_count": 15,
   "id": "7303642d-b249-4a4f-8b9e-0da4b29bdc97",
   "metadata": {},
   "outputs": [
    {
     "name": "stdout",
     "output_type": "stream",
     "text": [
      "LATEST_METADATA_FILE gs://gcs-bucket-iceberg-hms-928505941962-71d67f3e-cf27-4b25-a996-86a/hive-warehouse/loan_db.db/loans_by_state_iceberg/metadata/00001-3278c0db-1d9d-4483-9b6f-e6fe9bc799c1.metadata.json\n"
     ]
    }
   ],
   "source": [
    "#Fetching the latest metadata file\n",
    "\n",
    "#Note: In production usage the latest version of Metadata file is not always the one with highest sequence number. As we see further in lab Time Travel can restore an earlier version of metadata as current.\n",
    "\n",
    "latest_metadata = !gsutil ls  $HIVE_METASTORE_WAREHOUSE_DIR/loan_db.db/{TABLE_NAME}/metadata/*.metadata.json | tail -1\n",
    "LATEST_METADATA_FILE = latest_metadata[0]\n",
    "print(\"LATEST_METADATA_FILE\", LATEST_METADATA_FILE)"
   ]
  },
  {
   "cell_type": "code",
   "execution_count": 16,
   "id": "337f32ed-d55a-48be-9979-b3781dcfcb04",
   "metadata": {},
   "outputs": [
    {
     "name": "stdout",
     "output_type": "stream",
     "text": [
      "{\n",
      "  \"format-version\" : 1,\n",
      "  \"table-uuid\" : \"d08425df-63be-497b-b873-529790a5c137\",\n",
      "  \"location\" : \"gs://gcs-bucket-iceberg-hms-928505941962-71d67f3e-cf27-4b25-a996-86a/hive-warehouse/loan_db.db/loans_by_state_iceberg\",\n",
      "  \"last-updated-ms\" : 1676068185022,\n",
      "  \"last-column-id\" : 2,\n",
      "  \"schema\" : {\n",
      "    \"type\" : \"struct\",\n",
      "    \"schema-id\" : 0,\n",
      "    \"fields\" : [ {\n",
      "      \"id\" : 1,\n",
      "      \"name\" : \"addr_state\",\n",
      "      \"required\" : false,\n",
      "      \"type\" : \"string\"\n",
      "    }, {\n",
      "      \"id\" : 2,\n",
      "      \"name\" : \"loan_count\",\n",
      "      \"required\" : false,\n",
      "      \"type\" : \"long\"\n",
      "    } ]\n",
      "  },\n",
      "  \"current-schema-id\" : 0,\n",
      "  \"schemas\" : [ {\n",
      "    \"type\" : \"struct\",\n",
      "    \"schema-id\" : 0,\n",
      "    \"fields\" : [ {\n",
      "      \"id\" : 1,\n",
      "      \"name\" : \"addr_state\",\n",
      "      \"required\" : false,\n",
      "      \"type\" : \"string\"\n",
      "    }, {\n",
      "      \"id\" : 2,\n",
      "      \"name\" : \"loan_count\",\n",
      "      \"required\" : false,\n",
      "      \"type\" : \"long\"\n",
      "    } ]\n",
      "  } ],\n",
      "  \"partition-spec\" : [ ],\n",
      "  \"default-spec-id\" : 0,\n",
      "  \"partition-specs\" : [ {\n",
      "    \"spec-id\" : 0,\n",
      "    \"fields\" : [ ]\n",
      "  } ],\n",
      "  \"last-partition-id\" : 999,\n",
      "  \"default-sort-order-id\" : 0,\n",
      "  \"sort-orders\" : [ {\n",
      "    \"order-id\" : 0,\n",
      "    \"fields\" : [ ]\n",
      "  } ],\n",
      "  \"properties\" : {\n",
      "    \"owner\" : \"spark\"\n",
      "  },\n",
      "  \"current-snapshot-id\" : 5222601969543758311,\n",
      "  \"refs\" : {\n",
      "    \"main\" : {\n",
      "      \"snapshot-id\" : 5222601969543758311,\n",
      "      \"type\" : \"branch\"\n",
      "    }\n",
      "  },\n",
      "  \"snapshots\" : [ {\n",
      "    \"snapshot-id\" : 3648627921780331930,\n",
      "    \"timestamp-ms\" : 1676042776364,\n",
      "    \"summary\" : {\n",
      "      \"operation\" : \"append\",\n",
      "      \"spark.app.id\" : \"app-20230210150657-0006\",\n",
      "      \"added-data-files\" : \"1\",\n",
      "      \"added-records\" : \"51\",\n",
      "      \"added-files-size\" : \"1005\",\n",
      "      \"changed-partition-count\" : \"1\",\n",
      "      \"total-records\" : \"51\",\n",
      "      \"total-files-size\" : \"1005\",\n",
      "      \"total-data-files\" : \"1\",\n",
      "      \"total-delete-files\" : \"0\",\n",
      "      \"total-position-deletes\" : \"0\",\n",
      "      \"total-equality-deletes\" : \"0\"\n",
      "    },\n",
      "    \"manifest-list\" : \"gs://gcs-bucket-iceberg-hms-928505941962-71d67f3e-cf27-4b25-a996-86a/hive-warehouse/loan_db.db/loans_by_state_iceberg/metadata/snap-3648627921780331930-1-d37b2f20-215b-4690-9fdf-1e59a8e68f24.avro\",\n",
      "    \"schema-id\" : 0\n",
      "  }, {\n",
      "    \"snapshot-id\" : 5222601969543758311,\n",
      "    \"parent-snapshot-id\" : 3648627921780331930,\n",
      "    \"timestamp-ms\" : 1676068185022,\n",
      "    \"summary\" : {\n",
      "      \"operation\" : \"overwrite\",\n",
      "      \"spark.app.id\" : \"app-20230210222521-0000\",\n",
      "      \"added-data-files\" : \"1\",\n",
      "      \"deleted-data-files\" : \"1\",\n",
      "      \"added-records\" : \"50\",\n",
      "      \"deleted-records\" : \"51\",\n",
      "      \"added-files-size\" : \"998\",\n",
      "      \"removed-files-size\" : \"1005\",\n",
      "      \"changed-partition-count\" : \"1\",\n",
      "      \"total-records\" : \"50\",\n",
      "      \"total-files-size\" : \"998\",\n",
      "      \"total-data-files\" : \"1\",\n",
      "      \"total-delete-files\" : \"0\",\n",
      "      \"total-position-deletes\" : \"0\",\n",
      "      \"total-equality-deletes\" : \"0\"\n",
      "    },\n",
      "    \"manifest-list\" : \"gs://gcs-bucket-iceberg-hms-928505941962-71d67f3e-cf27-4b25-a996-86a/hive-warehouse/loan_db.db/loans_by_state_iceberg/metadata/snap-5222601969543758311-1-b4bce2b6-d0e0-440f-a879-f2cc876fe580.avro\",\n",
      "    \"schema-id\" : 0\n",
      "  } ],\n",
      "  \"statistics\" : [ ],\n",
      "  \"snapshot-log\" : [ {\n",
      "    \"timestamp-ms\" : 1676042776364,\n",
      "    \"snapshot-id\" : 3648627921780331930\n",
      "  }, {\n",
      "    \"timestamp-ms\" : 1676068185022,\n",
      "    \"snapshot-id\" : 5222601969543758311\n",
      "  } ],\n",
      "  \"metadata-log\" : [ {\n",
      "    \"timestamp-ms\" : 1676042776364,\n",
      "    \"metadata-file\" : \"gs://gcs-bucket-iceberg-hms-928505941962-71d67f3e-cf27-4b25-a996-86a/hive-warehouse/loan_db.db/loans_by_state_iceberg/metadata/00000-e9f97377-9cf7-4d6b-a97f-cde34a16cb51.metadata.json\"\n",
      "  } ]\n",
      "}"
     ]
    }
   ],
   "source": [
    "#Explore the contents of the latest metadata file\n",
    "\n",
    "#Note that the new metadata files keeps track of new snapshots and also indicates the no of files deleted or modified \n",
    "\n",
    "!gsutil cat {LATEST_METADATA_FILE}"
   ]
  },
  {
   "cell_type": "markdown",
   "id": "17581b81-035f-43b6-a4fa-48b55ce28c8c",
   "metadata": {},
   "source": [
    "### 5. INSERT Operation\n"
   ]
  },
  {
   "cell_type": "code",
   "execution_count": 17,
   "id": "da4f7939-4668-4015-83eb-90209251ea03",
   "metadata": {},
   "outputs": [
    {
     "data": {
      "text/plain": [
       "DataFrame[]"
      ]
     },
     "execution_count": 17,
     "metadata": {},
     "output_type": "execute_result"
    }
   ],
   "source": [
    "spark.sql(f\"INSERT INTO {FQTN} VALUES ('AZ',50000)\")"
   ]
  },
  {
   "cell_type": "code",
   "execution_count": 18,
   "id": "e98a313e-98cf-43a6-b000-626c5f3672e1",
   "metadata": {},
   "outputs": [
    {
     "name": "stdout",
     "output_type": "stream",
     "text": [
      "+----------+----------+\n",
      "|addr_state|loan_count|\n",
      "+----------+----------+\n",
      "|AZ        |50000     |\n",
      "+----------+----------+\n",
      "\n"
     ]
    }
   ],
   "source": [
    "spark.sql(f\"SELECT * FROM {FQTN} WHERE addr_state='AZ'\").show(truncate=False)"
   ]
  },
  {
   "cell_type": "code",
   "execution_count": 19,
   "id": "90acbd73-975a-4911-8afc-50dec3e0d58a",
   "metadata": {},
   "outputs": [
    {
     "name": "stdout",
     "output_type": "stream",
     "text": [
      "gs://gcs-bucket-iceberg-hms-928505941962-71d67f3e-cf27-4b25-a996-86a/hive-warehouse/loan_db.db/loans_by_state_iceberg/:\n",
      "\n",
      "gs://gcs-bucket-iceberg-hms-928505941962-71d67f3e-cf27-4b25-a996-86a/hive-warehouse/loan_db.db/loans_by_state_iceberg/data/:\n",
      "gs://gcs-bucket-iceberg-hms-928505941962-71d67f3e-cf27-4b25-a996-86a/hive-warehouse/loan_db.db/loans_by_state_iceberg/data/00000-2-b2d1021e-d3ad-4aff-baa7-1c740e8a3144-00001.parquet\n",
      "gs://gcs-bucket-iceberg-hms-928505941962-71d67f3e-cf27-4b25-a996-86a/hive-warehouse/loan_db.db/loans_by_state_iceberg/data/00000-205-c4327bde-de7b-4bb7-a2fe-cb90b1c77623-00001.parquet\n",
      "gs://gcs-bucket-iceberg-hms-928505941962-71d67f3e-cf27-4b25-a996-86a/hive-warehouse/loan_db.db/loans_by_state_iceberg/data/00054-4-595dbb6c-4517-4463-91be-a1b513cf82f2-00001.parquet\n",
      "\n",
      "gs://gcs-bucket-iceberg-hms-928505941962-71d67f3e-cf27-4b25-a996-86a/hive-warehouse/loan_db.db/loans_by_state_iceberg/metadata/:\n",
      "gs://gcs-bucket-iceberg-hms-928505941962-71d67f3e-cf27-4b25-a996-86a/hive-warehouse/loan_db.db/loans_by_state_iceberg/metadata/00000-e9f97377-9cf7-4d6b-a97f-cde34a16cb51.metadata.json\n",
      "gs://gcs-bucket-iceberg-hms-928505941962-71d67f3e-cf27-4b25-a996-86a/hive-warehouse/loan_db.db/loans_by_state_iceberg/metadata/00001-3278c0db-1d9d-4483-9b6f-e6fe9bc799c1.metadata.json\n",
      "gs://gcs-bucket-iceberg-hms-928505941962-71d67f3e-cf27-4b25-a996-86a/hive-warehouse/loan_db.db/loans_by_state_iceberg/metadata/00002-bc68f99b-7d12-4b18-a2b2-e9c9e745cbfe.metadata.json\n",
      "gs://gcs-bucket-iceberg-hms-928505941962-71d67f3e-cf27-4b25-a996-86a/hive-warehouse/loan_db.db/loans_by_state_iceberg/metadata/b4bce2b6-d0e0-440f-a879-f2cc876fe580-m0.avro\n",
      "gs://gcs-bucket-iceberg-hms-928505941962-71d67f3e-cf27-4b25-a996-86a/hive-warehouse/loan_db.db/loans_by_state_iceberg/metadata/b4bce2b6-d0e0-440f-a879-f2cc876fe580-m1.avro\n",
      "gs://gcs-bucket-iceberg-hms-928505941962-71d67f3e-cf27-4b25-a996-86a/hive-warehouse/loan_db.db/loans_by_state_iceberg/metadata/bbe9674b-8463-4473-9361-7cff8e15023e-m0.avro\n",
      "gs://gcs-bucket-iceberg-hms-928505941962-71d67f3e-cf27-4b25-a996-86a/hive-warehouse/loan_db.db/loans_by_state_iceberg/metadata/d37b2f20-215b-4690-9fdf-1e59a8e68f24-m0.avro\n",
      "gs://gcs-bucket-iceberg-hms-928505941962-71d67f3e-cf27-4b25-a996-86a/hive-warehouse/loan_db.db/loans_by_state_iceberg/metadata/snap-3648627921780331930-1-d37b2f20-215b-4690-9fdf-1e59a8e68f24.avro\n",
      "gs://gcs-bucket-iceberg-hms-928505941962-71d67f3e-cf27-4b25-a996-86a/hive-warehouse/loan_db.db/loans_by_state_iceberg/metadata/snap-5222601969543758311-1-b4bce2b6-d0e0-440f-a879-f2cc876fe580.avro\n",
      "gs://gcs-bucket-iceberg-hms-928505941962-71d67f3e-cf27-4b25-a996-86a/hive-warehouse/loan_db.db/loans_by_state_iceberg/metadata/snap-9145457862466461068-1-bbe9674b-8463-4473-9361-7cff8e15023e.avro\n"
     ]
    }
   ],
   "source": [
    "!gsutil ls -r $HIVE_METASTORE_WAREHOUSE_DIR/loan_db.db/{TABLE_NAME}/"
   ]
  },
  {
   "cell_type": "markdown",
   "id": "d89c7cb8-2c1e-46a9-ab22-7314d479e173",
   "metadata": {},
   "source": [
    "**NOTE:** INSERT operation has created new set of files in the table directory\n",
    "1. New parquet file in data folder with new row for \"AZ\" \n",
    "2. New snapshot, manifest, meta-data files in the meta-data folder"
   ]
  },
  {
   "cell_type": "code",
   "execution_count": 20,
   "id": "c97ea3e1-7178-48bc-bb2a-fa4e15cf21e5",
   "metadata": {},
   "outputs": [
    {
     "name": "stdout",
     "output_type": "stream",
     "text": [
      "LATEST_METADATA_FILE gs://gcs-bucket-iceberg-hms-928505941962-71d67f3e-cf27-4b25-a996-86a/hive-warehouse/loan_db.db/loans_by_state_iceberg/metadata/00002-bc68f99b-7d12-4b18-a2b2-e9c9e745cbfe.metadata.json\n"
     ]
    }
   ],
   "source": [
    "#Fetching the latest metadata file\n",
    "\n",
    "latest_metadata = !gsutil ls  $HIVE_METASTORE_WAREHOUSE_DIR/loan_db.db/{TABLE_NAME}/metadata/*.metadata.json | tail -1\n",
    "LATEST_METADATA_FILE = latest_metadata[0]\n",
    "print(\"LATEST_METADATA_FILE\", LATEST_METADATA_FILE)"
   ]
  },
  {
   "cell_type": "code",
   "execution_count": 21,
   "id": "61df7321-31bc-4705-a688-f0890908215c",
   "metadata": {},
   "outputs": [
    {
     "name": "stdout",
     "output_type": "stream",
     "text": [
      "{\n",
      "  \"format-version\" : 1,\n",
      "  \"table-uuid\" : \"d08425df-63be-497b-b873-529790a5c137\",\n",
      "  \"location\" : \"gs://gcs-bucket-iceberg-hms-928505941962-71d67f3e-cf27-4b25-a996-86a/hive-warehouse/loan_db.db/loans_by_state_iceberg\",\n",
      "  \"last-updated-ms\" : 1676068386455,\n",
      "  \"last-column-id\" : 2,\n",
      "  \"schema\" : {\n",
      "    \"type\" : \"struct\",\n",
      "    \"schema-id\" : 0,\n",
      "    \"fields\" : [ {\n",
      "      \"id\" : 1,\n",
      "      \"name\" : \"addr_state\",\n",
      "      \"required\" : false,\n",
      "      \"type\" : \"string\"\n",
      "    }, {\n",
      "      \"id\" : 2,\n",
      "      \"name\" : \"loan_count\",\n",
      "      \"required\" : false,\n",
      "      \"type\" : \"long\"\n",
      "    } ]\n",
      "  },\n",
      "  \"current-schema-id\" : 0,\n",
      "  \"schemas\" : [ {\n",
      "    \"type\" : \"struct\",\n",
      "    \"schema-id\" : 0,\n",
      "    \"fields\" : [ {\n",
      "      \"id\" : 1,\n",
      "      \"name\" : \"addr_state\",\n",
      "      \"required\" : false,\n",
      "      \"type\" : \"string\"\n",
      "    }, {\n",
      "      \"id\" : 2,\n",
      "      \"name\" : \"loan_count\",\n",
      "      \"required\" : false,\n",
      "      \"type\" : \"long\"\n",
      "    } ]\n",
      "  } ],\n",
      "  \"partition-spec\" : [ ],\n",
      "  \"default-spec-id\" : 0,\n",
      "  \"partition-specs\" : [ {\n",
      "    \"spec-id\" : 0,\n",
      "    \"fields\" : [ ]\n",
      "  } ],\n",
      "  \"last-partition-id\" : 999,\n",
      "  \"default-sort-order-id\" : 0,\n",
      "  \"sort-orders\" : [ {\n",
      "    \"order-id\" : 0,\n",
      "    \"fields\" : [ ]\n",
      "  } ],\n",
      "  \"properties\" : {\n",
      "    \"owner\" : \"spark\"\n",
      "  },\n",
      "  \"current-snapshot-id\" : 9145457862466461068,\n",
      "  \"refs\" : {\n",
      "    \"main\" : {\n",
      "      \"snapshot-id\" : 9145457862466461068,\n",
      "      \"type\" : \"branch\"\n",
      "    }\n",
      "  },\n",
      "  \"snapshots\" : [ {\n",
      "    \"snapshot-id\" : 3648627921780331930,\n",
      "    \"timestamp-ms\" : 1676042776364,\n",
      "    \"summary\" : {\n",
      "      \"operation\" : \"append\",\n",
      "      \"spark.app.id\" : \"app-20230210150657-0006\",\n",
      "      \"added-data-files\" : \"1\",\n",
      "      \"added-records\" : \"51\",\n",
      "      \"added-files-size\" : \"1005\",\n",
      "      \"changed-partition-count\" : \"1\",\n",
      "      \"total-records\" : \"51\",\n",
      "      \"total-files-size\" : \"1005\",\n",
      "      \"total-data-files\" : \"1\",\n",
      "      \"total-delete-files\" : \"0\",\n",
      "      \"total-position-deletes\" : \"0\",\n",
      "      \"total-equality-deletes\" : \"0\"\n",
      "    },\n",
      "    \"manifest-list\" : \"gs://gcs-bucket-iceberg-hms-928505941962-71d67f3e-cf27-4b25-a996-86a/hive-warehouse/loan_db.db/loans_by_state_iceberg/metadata/snap-3648627921780331930-1-d37b2f20-215b-4690-9fdf-1e59a8e68f24.avro\",\n",
      "    \"schema-id\" : 0\n",
      "  }, {\n",
      "    \"snapshot-id\" : 5222601969543758311,\n",
      "    \"parent-snapshot-id\" : 3648627921780331930,\n",
      "    \"timestamp-ms\" : 1676068185022,\n",
      "    \"summary\" : {\n",
      "      \"operation\" : \"overwrite\",\n",
      "      \"spark.app.id\" : \"app-20230210222521-0000\",\n",
      "      \"added-data-files\" : \"1\",\n",
      "      \"deleted-data-files\" : \"1\",\n",
      "      \"added-records\" : \"50\",\n",
      "      \"deleted-records\" : \"51\",\n",
      "      \"added-files-size\" : \"998\",\n",
      "      \"removed-files-size\" : \"1005\",\n",
      "      \"changed-partition-count\" : \"1\",\n",
      "      \"total-records\" : \"50\",\n",
      "      \"total-files-size\" : \"998\",\n",
      "      \"total-data-files\" : \"1\",\n",
      "      \"total-delete-files\" : \"0\",\n",
      "      \"total-position-deletes\" : \"0\",\n",
      "      \"total-equality-deletes\" : \"0\"\n",
      "    },\n",
      "    \"manifest-list\" : \"gs://gcs-bucket-iceberg-hms-928505941962-71d67f3e-cf27-4b25-a996-86a/hive-warehouse/loan_db.db/loans_by_state_iceberg/metadata/snap-5222601969543758311-1-b4bce2b6-d0e0-440f-a879-f2cc876fe580.avro\",\n",
      "    \"schema-id\" : 0\n",
      "  }, {\n",
      "    \"snapshot-id\" : 9145457862466461068,\n",
      "    \"parent-snapshot-id\" : 5222601969543758311,\n",
      "    \"timestamp-ms\" : 1676068386455,\n",
      "    \"summary\" : {\n",
      "      \"operation\" : \"append\",\n",
      "      \"spark.app.id\" : \"app-20230210222521-0000\",\n",
      "      \"added-data-files\" : \"1\",\n",
      "      \"added-records\" : \"1\",\n",
      "      \"added-files-size\" : \"693\",\n",
      "      \"changed-partition-count\" : \"1\",\n",
      "      \"total-records\" : \"51\",\n",
      "      \"total-files-size\" : \"1691\",\n",
      "      \"total-data-files\" : \"2\",\n",
      "      \"total-delete-files\" : \"0\",\n",
      "      \"total-position-deletes\" : \"0\",\n",
      "      \"total-equality-deletes\" : \"0\"\n",
      "    },\n",
      "    \"manifest-list\" : \"gs://gcs-bucket-iceberg-hms-928505941962-71d67f3e-cf27-4b25-a996-86a/hive-warehouse/loan_db.db/loans_by_state_iceberg/metadata/snap-9145457862466461068-1-bbe9674b-8463-4473-9361-7cff8e15023e.avro\",\n",
      "    \"schema-id\" : 0\n",
      "  } ],\n",
      "  \"statistics\" : [ ],\n",
      "  \"snapshot-log\" : [ {\n",
      "    \"timestamp-ms\" : 1676042776364,\n",
      "    \"snapshot-id\" : 3648627921780331930\n",
      "  }, {\n",
      "    \"timestamp-ms\" : 1676068185022,\n",
      "    \"snapshot-id\" : 5222601969543758311\n",
      "  }, {\n",
      "    \"timestamp-ms\" : 1676068386455,\n",
      "    \"snapshot-id\" : 9145457862466461068\n",
      "  } ],\n",
      "  \"metadata-log\" : [ {\n",
      "    \"timestamp-ms\" : 1676042776364,\n",
      "    \"metadata-file\" : \"gs://gcs-bucket-iceberg-hms-928505941962-71d67f3e-cf27-4b25-a996-86a/hive-warehouse/loan_db.db/loans_by_state_iceberg/metadata/00000-e9f97377-9cf7-4d6b-a97f-cde34a16cb51.metadata.json\"\n",
      "  }, {\n",
      "    \"timestamp-ms\" : 1676068185022,\n",
      "    \"metadata-file\" : \"gs://gcs-bucket-iceberg-hms-928505941962-71d67f3e-cf27-4b25-a996-86a/hive-warehouse/loan_db.db/loans_by_state_iceberg/metadata/00001-3278c0db-1d9d-4483-9b6f-e6fe9bc799c1.metadata.json\"\n",
      "  } ]\n",
      "}"
     ]
    }
   ],
   "source": [
    "#Explore contents of latest metadata file post INSERT operation\n",
    "\n",
    "!gsutil cat {LATEST_METADATA_FILE}"
   ]
  },
  {
   "cell_type": "markdown",
   "id": "b82aef62-845f-43da-ba55-654eac9ae0e1",
   "metadata": {},
   "source": [
    "**NOTE:**\n",
    "1. The value of current snapshot is set to uuid of the latest snapshot file\n",
    "2. The operation is indicated as \"append\" and \n",
    "3. Note the number of files added/deleted as part of this INSERT operation. \n",
    "    \n",
    "    \n",
    "   In our specific case since we are using unpartitioned table here all 51 records are part of the same file hence the entire file is being overwriten. \n"
   ]
  },
  {
   "cell_type": "markdown",
   "id": "446bb16c-a935-4521-9d4f-d3122eecf323",
   "metadata": {},
   "source": [
    "### 6. UPDATE Operation"
   ]
  },
  {
   "cell_type": "code",
   "execution_count": 23,
   "id": "16dcf766-cf76-4210-aa26-519fd91b9207",
   "metadata": {},
   "outputs": [
    {
     "name": "stderr",
     "output_type": "stream",
     "text": [
      "                                                                                \r"
     ]
    },
    {
     "name": "stdout",
     "output_type": "stream",
     "text": [
      "++\n",
      "||\n",
      "++\n",
      "++\n",
      "\n"
     ]
    }
   ],
   "source": [
    "spark.sql(f\"UPDATE {FQTN} SET loan_count = 11111 WHERE addr_state='AZ'\").show(truncate=False)"
   ]
  },
  {
   "cell_type": "code",
   "execution_count": 24,
   "id": "9a56affe-a463-4835-a45a-51cbdeda8f20",
   "metadata": {},
   "outputs": [
    {
     "name": "stdout",
     "output_type": "stream",
     "text": [
      "+----------+----------+\n",
      "|addr_state|loan_count|\n",
      "+----------+----------+\n",
      "|AZ        |11111     |\n",
      "+----------+----------+\n",
      "\n"
     ]
    }
   ],
   "source": [
    "spark.sql(f\"SELECT * FROM {FQTN} WHERE addr_state='AZ'\").show(truncate=False)"
   ]
  },
  {
   "cell_type": "code",
   "execution_count": 25,
   "id": "7c7a62c6-afdd-48ea-b99c-870098058395",
   "metadata": {},
   "outputs": [
    {
     "name": "stdout",
     "output_type": "stream",
     "text": [
      "gs://gcs-bucket-iceberg-hms-928505941962-71d67f3e-cf27-4b25-a996-86a/hive-warehouse/loan_db.db/loans_by_state_iceberg/:\n",
      "\n",
      "gs://gcs-bucket-iceberg-hms-928505941962-71d67f3e-cf27-4b25-a996-86a/hive-warehouse/loan_db.db/loans_by_state_iceberg/data/:\n",
      "gs://gcs-bucket-iceberg-hms-928505941962-71d67f3e-cf27-4b25-a996-86a/hive-warehouse/loan_db.db/loans_by_state_iceberg/data/00000-2-b2d1021e-d3ad-4aff-baa7-1c740e8a3144-00001.parquet\n",
      "gs://gcs-bucket-iceberg-hms-928505941962-71d67f3e-cf27-4b25-a996-86a/hive-warehouse/loan_db.db/loans_by_state_iceberg/data/00000-205-c4327bde-de7b-4bb7-a2fe-cb90b1c77623-00001.parquet\n",
      "gs://gcs-bucket-iceberg-hms-928505941962-71d67f3e-cf27-4b25-a996-86a/hive-warehouse/loan_db.db/loans_by_state_iceberg/data/00054-4-595dbb6c-4517-4463-91be-a1b513cf82f2-00001.parquet\n",
      "gs://gcs-bucket-iceberg-hms-928505941962-71d67f3e-cf27-4b25-a996-86a/hive-warehouse/loan_db.db/loans_by_state_iceberg/data/00130-209-e5d9f868-2616-41fc-9233-464482068f34-00001.parquet\n",
      "\n",
      "gs://gcs-bucket-iceberg-hms-928505941962-71d67f3e-cf27-4b25-a996-86a/hive-warehouse/loan_db.db/loans_by_state_iceberg/metadata/:\n",
      "gs://gcs-bucket-iceberg-hms-928505941962-71d67f3e-cf27-4b25-a996-86a/hive-warehouse/loan_db.db/loans_by_state_iceberg/metadata/00000-e9f97377-9cf7-4d6b-a97f-cde34a16cb51.metadata.json\n",
      "gs://gcs-bucket-iceberg-hms-928505941962-71d67f3e-cf27-4b25-a996-86a/hive-warehouse/loan_db.db/loans_by_state_iceberg/metadata/00001-3278c0db-1d9d-4483-9b6f-e6fe9bc799c1.metadata.json\n",
      "gs://gcs-bucket-iceberg-hms-928505941962-71d67f3e-cf27-4b25-a996-86a/hive-warehouse/loan_db.db/loans_by_state_iceberg/metadata/00002-bc68f99b-7d12-4b18-a2b2-e9c9e745cbfe.metadata.json\n",
      "gs://gcs-bucket-iceberg-hms-928505941962-71d67f3e-cf27-4b25-a996-86a/hive-warehouse/loan_db.db/loans_by_state_iceberg/metadata/00003-b3d4f2b7-aa02-4b21-b475-9b2dc02441e7.metadata.json\n",
      "gs://gcs-bucket-iceberg-hms-928505941962-71d67f3e-cf27-4b25-a996-86a/hive-warehouse/loan_db.db/loans_by_state_iceberg/metadata/6d82bf31-6b44-4f47-bdf1-6567080cbaa4-m0.avro\n",
      "gs://gcs-bucket-iceberg-hms-928505941962-71d67f3e-cf27-4b25-a996-86a/hive-warehouse/loan_db.db/loans_by_state_iceberg/metadata/6d82bf31-6b44-4f47-bdf1-6567080cbaa4-m1.avro\n",
      "gs://gcs-bucket-iceberg-hms-928505941962-71d67f3e-cf27-4b25-a996-86a/hive-warehouse/loan_db.db/loans_by_state_iceberg/metadata/b4bce2b6-d0e0-440f-a879-f2cc876fe580-m0.avro\n",
      "gs://gcs-bucket-iceberg-hms-928505941962-71d67f3e-cf27-4b25-a996-86a/hive-warehouse/loan_db.db/loans_by_state_iceberg/metadata/b4bce2b6-d0e0-440f-a879-f2cc876fe580-m1.avro\n",
      "gs://gcs-bucket-iceberg-hms-928505941962-71d67f3e-cf27-4b25-a996-86a/hive-warehouse/loan_db.db/loans_by_state_iceberg/metadata/bbe9674b-8463-4473-9361-7cff8e15023e-m0.avro\n",
      "gs://gcs-bucket-iceberg-hms-928505941962-71d67f3e-cf27-4b25-a996-86a/hive-warehouse/loan_db.db/loans_by_state_iceberg/metadata/d37b2f20-215b-4690-9fdf-1e59a8e68f24-m0.avro\n",
      "gs://gcs-bucket-iceberg-hms-928505941962-71d67f3e-cf27-4b25-a996-86a/hive-warehouse/loan_db.db/loans_by_state_iceberg/metadata/snap-3648627921780331930-1-d37b2f20-215b-4690-9fdf-1e59a8e68f24.avro\n",
      "gs://gcs-bucket-iceberg-hms-928505941962-71d67f3e-cf27-4b25-a996-86a/hive-warehouse/loan_db.db/loans_by_state_iceberg/metadata/snap-5222601969543758311-1-b4bce2b6-d0e0-440f-a879-f2cc876fe580.avro\n",
      "gs://gcs-bucket-iceberg-hms-928505941962-71d67f3e-cf27-4b25-a996-86a/hive-warehouse/loan_db.db/loans_by_state_iceberg/metadata/snap-8627182030940064924-1-6d82bf31-6b44-4f47-bdf1-6567080cbaa4.avro\n",
      "gs://gcs-bucket-iceberg-hms-928505941962-71d67f3e-cf27-4b25-a996-86a/hive-warehouse/loan_db.db/loans_by_state_iceberg/metadata/snap-9145457862466461068-1-bbe9674b-8463-4473-9361-7cff8e15023e.avro\n"
     ]
    }
   ],
   "source": [
    "# Note how the update created a new parquet file and added more metadata files in the metadata directory\n",
    "!gsutil ls -r $HIVE_METASTORE_WAREHOUSE_DIR/loan_db.db/{TABLE_NAME}/"
   ]
  },
  {
   "cell_type": "markdown",
   "id": "989df741-1ce5-4743-9556-ed896241a061",
   "metadata": {},
   "source": [
    "### 7. INSERT OVERWRITE Operation"
   ]
  },
  {
   "cell_type": "code",
   "execution_count": 26,
   "id": "c4cca697-f023-4f5f-a301-c1a61a52402a",
   "metadata": {},
   "outputs": [],
   "source": [
    "#Creating a source table for overwriting \n",
    "\n",
    "overwrt_df = spark.sql(f\"SELECT * FROM {FQTN} WHERE addr_state NOT IN ('IA','CA')\")\n",
    "overwrt_df.createOrReplaceTempView(\"overwrite_source_table\")"
   ]
  },
  {
   "cell_type": "code",
   "execution_count": 27,
   "id": "ee837649-13c6-4f3a-b75c-686b0d867e84",
   "metadata": {},
   "outputs": [
    {
     "data": {
      "text/plain": [
       "DataFrame[]"
      ]
     },
     "execution_count": 27,
     "metadata": {},
     "output_type": "execute_result"
    }
   ],
   "source": [
    "#Overwrite Iceberg table with the values from above source table\n",
    "spark.sql(f\"INSERT OVERWRITE {FQTN} SELECT * FROM overwrite_source_table\").show(truncate=False)"
   ]
  },
  {
   "cell_type": "code",
   "execution_count": 28,
   "id": "eab490ab-334a-4796-ba6a-fffb96d692ff",
   "metadata": {},
   "outputs": [
    {
     "name": "stdout",
     "output_type": "stream",
     "text": [
      "+-----+\n",
      "|count|\n",
      "+-----+\n",
      "|49   |\n",
      "+-----+\n",
      "\n"
     ]
    }
   ],
   "source": [
    "#\n",
    "spark.sql(f\"SELECT COUNT(*) as count  from {FQTN}\").show(truncate=False)"
   ]
  },
  {
   "cell_type": "code",
   "execution_count": 29,
   "id": "c0181486-46a8-432a-80e2-514ab7834b22",
   "metadata": {},
   "outputs": [
    {
     "name": "stdout",
     "output_type": "stream",
     "text": [
      "LATEST_METADATA_FILE gs://gcs-bucket-iceberg-hms-928505941962-71d67f3e-cf27-4b25-a996-86a/hive-warehouse/loan_db.db/loans_by_state_iceberg/metadata/00004-1f15486a-5485-4bdf-aefb-e1b7a9da220f.metadata.json\n",
      "{\n",
      "  \"format-version\" : 1,\n",
      "  \"table-uuid\" : \"d08425df-63be-497b-b873-529790a5c137\",\n",
      "  \"location\" : \"gs://gcs-bucket-iceberg-hms-928505941962-71d67f3e-cf27-4b25-a996-86a/hive-warehouse/loan_db.db/loans_by_state_iceberg\",\n",
      "  \"last-updated-ms\" : 1676068590093,\n",
      "  \"last-column-id\" : 2,\n",
      "  \"schema\" : {\n",
      "    \"type\" : \"struct\",\n",
      "    \"schema-id\" : 0,\n",
      "    \"fields\" : [ {\n",
      "      \"id\" : 1,\n",
      "      \"name\" : \"addr_state\",\n",
      "      \"required\" : false,\n",
      "      \"type\" : \"string\"\n",
      "    }, {\n",
      "      \"id\" : 2,\n",
      "      \"name\" : \"loan_count\",\n",
      "      \"required\" : false,\n",
      "      \"type\" : \"long\"\n",
      "    } ]\n",
      "  },\n",
      "  \"current-schema-id\" : 0,\n",
      "  \"schemas\" : [ {\n",
      "    \"type\" : \"struct\",\n",
      "    \"schema-id\" : 0,\n",
      "    \"fields\" : [ {\n",
      "      \"id\" : 1,\n",
      "      \"name\" : \"addr_state\",\n",
      "      \"required\" : false,\n",
      "      \"type\" : \"string\"\n",
      "    }, {\n",
      "      \"id\" : 2,\n",
      "      \"name\" : \"loan_count\",\n",
      "      \"required\" : false,\n",
      "      \"type\" : \"long\"\n",
      "    } ]\n",
      "  } ],\n",
      "  \"partition-spec\" : [ ],\n",
      "  \"default-spec-id\" : 0,\n",
      "  \"partition-specs\" : [ {\n",
      "    \"spec-id\" : 0,\n",
      "    \"fields\" : [ ]\n",
      "  } ],\n",
      "  \"last-partition-id\" : 999,\n",
      "  \"default-sort-order-id\" : 0,\n",
      "  \"sort-orders\" : [ {\n",
      "    \"order-id\" : 0,\n",
      "    \"fields\" : [ ]\n",
      "  } ],\n",
      "  \"properties\" : {\n",
      "    \"owner\" : \"spark\"\n",
      "  },\n",
      "  \"current-snapshot-id\" : 2697368997376323351,\n",
      "  \"refs\" : {\n",
      "    \"main\" : {\n",
      "      \"snapshot-id\" : 2697368997376323351,\n",
      "      \"type\" : \"branch\"\n",
      "    }\n",
      "  },\n",
      "  \"snapshots\" : [ {\n",
      "    \"snapshot-id\" : 3648627921780331930,\n",
      "    \"timestamp-ms\" : 1676042776364,\n",
      "    \"summary\" : {\n",
      "      \"operation\" : \"append\",\n",
      "      \"spark.app.id\" : \"app-20230210150657-0006\",\n",
      "      \"added-data-files\" : \"1\",\n",
      "      \"added-records\" : \"51\",\n",
      "      \"added-files-size\" : \"1005\",\n",
      "      \"changed-partition-count\" : \"1\",\n",
      "      \"total-records\" : \"51\",\n",
      "      \"total-files-size\" : \"1005\",\n",
      "      \"total-data-files\" : \"1\",\n",
      "      \"total-delete-files\" : \"0\",\n",
      "      \"total-position-deletes\" : \"0\",\n",
      "      \"total-equality-deletes\" : \"0\"\n",
      "    },\n",
      "    \"manifest-list\" : \"gs://gcs-bucket-iceberg-hms-928505941962-71d67f3e-cf27-4b25-a996-86a/hive-warehouse/loan_db.db/loans_by_state_iceberg/metadata/snap-3648627921780331930-1-d37b2f20-215b-4690-9fdf-1e59a8e68f24.avro\",\n",
      "    \"schema-id\" : 0\n",
      "  }, {\n",
      "    \"snapshot-id\" : 5222601969543758311,\n",
      "    \"parent-snapshot-id\" : 3648627921780331930,\n",
      "    \"timestamp-ms\" : 1676068185022,\n",
      "    \"summary\" : {\n",
      "      \"operation\" : \"overwrite\",\n",
      "      \"spark.app.id\" : \"app-20230210222521-0000\",\n",
      "      \"added-data-files\" : \"1\",\n",
      "      \"deleted-data-files\" : \"1\",\n",
      "      \"added-records\" : \"50\",\n",
      "      \"deleted-records\" : \"51\",\n",
      "      \"added-files-size\" : \"998\",\n",
      "      \"removed-files-size\" : \"1005\",\n",
      "      \"changed-partition-count\" : \"1\",\n",
      "      \"total-records\" : \"50\",\n",
      "      \"total-files-size\" : \"998\",\n",
      "      \"total-data-files\" : \"1\",\n",
      "      \"total-delete-files\" : \"0\",\n",
      "      \"total-position-deletes\" : \"0\",\n",
      "      \"total-equality-deletes\" : \"0\"\n",
      "    },\n",
      "    \"manifest-list\" : \"gs://gcs-bucket-iceberg-hms-928505941962-71d67f3e-cf27-4b25-a996-86a/hive-warehouse/loan_db.db/loans_by_state_iceberg/metadata/snap-5222601969543758311-1-b4bce2b6-d0e0-440f-a879-f2cc876fe580.avro\",\n",
      "    \"schema-id\" : 0\n",
      "  }, {\n",
      "    \"snapshot-id\" : 9145457862466461068,\n",
      "    \"parent-snapshot-id\" : 5222601969543758311,\n",
      "    \"timestamp-ms\" : 1676068386455,\n",
      "    \"summary\" : {\n",
      "      \"operation\" : \"append\",\n",
      "      \"spark.app.id\" : \"app-20230210222521-0000\",\n",
      "      \"added-data-files\" : \"1\",\n",
      "      \"added-records\" : \"1\",\n",
      "      \"added-files-size\" : \"693\",\n",
      "      \"changed-partition-count\" : \"1\",\n",
      "      \"total-records\" : \"51\",\n",
      "      \"total-files-size\" : \"1691\",\n",
      "      \"total-data-files\" : \"2\",\n",
      "      \"total-delete-files\" : \"0\",\n",
      "      \"total-position-deletes\" : \"0\",\n",
      "      \"total-equality-deletes\" : \"0\"\n",
      "    },\n",
      "    \"manifest-list\" : \"gs://gcs-bucket-iceberg-hms-928505941962-71d67f3e-cf27-4b25-a996-86a/hive-warehouse/loan_db.db/loans_by_state_iceberg/metadata/snap-9145457862466461068-1-bbe9674b-8463-4473-9361-7cff8e15023e.avro\",\n",
      "    \"schema-id\" : 0\n",
      "  }, {\n",
      "    \"snapshot-id\" : 8627182030940064924,\n",
      "    \"parent-snapshot-id\" : 9145457862466461068,\n",
      "    \"timestamp-ms\" : 1676068511244,\n",
      "    \"summary\" : {\n",
      "      \"operation\" : \"overwrite\",\n",
      "      \"spark.app.id\" : \"app-20230210222521-0000\",\n",
      "      \"added-data-files\" : \"1\",\n",
      "      \"deleted-data-files\" : \"1\",\n",
      "      \"added-records\" : \"1\",\n",
      "      \"deleted-records\" : \"1\",\n",
      "      \"added-files-size\" : \"708\",\n",
      "      \"removed-files-size\" : \"693\",\n",
      "      \"changed-partition-count\" : \"1\",\n",
      "      \"total-records\" : \"51\",\n",
      "      \"total-files-size\" : \"1706\",\n",
      "      \"total-data-files\" : \"2\",\n",
      "      \"total-delete-files\" : \"0\",\n",
      "      \"total-position-deletes\" : \"0\",\n",
      "      \"total-equality-deletes\" : \"0\"\n",
      "    },\n",
      "    \"manifest-list\" : \"gs://gcs-bucket-iceberg-hms-928505941962-71d67f3e-cf27-4b25-a996-86a/hive-warehouse/loan_db.db/loans_by_state_iceberg/metadata/snap-8627182030940064924-1-6d82bf31-6b44-4f47-bdf1-6567080cbaa4.avro\",\n",
      "    \"schema-id\" : 0\n",
      "  }, {\n",
      "    \"snapshot-id\" : 2697368997376323351,\n",
      "    \"parent-snapshot-id\" : 8627182030940064924,\n",
      "    \"timestamp-ms\" : 1676068590093,\n",
      "    \"summary\" : {\n",
      "      \"operation\" : \"overwrite\",\n",
      "      \"spark.app.id\" : \"app-20230210222521-0000\",\n",
      "      \"added-data-files\" : \"1\",\n",
      "      \"deleted-data-files\" : \"2\",\n",
      "      \"added-records\" : \"49\",\n",
      "      \"deleted-records\" : \"51\",\n",
      "      \"added-files-size\" : \"994\",\n",
      "      \"removed-files-size\" : \"1706\",\n",
      "      \"changed-partition-count\" : \"1\",\n",
      "      \"total-records\" : \"49\",\n",
      "      \"total-files-size\" : \"994\",\n",
      "      \"total-data-files\" : \"1\",\n",
      "      \"total-delete-files\" : \"0\",\n",
      "      \"total-position-deletes\" : \"0\",\n",
      "      \"total-equality-deletes\" : \"0\"\n",
      "    },\n",
      "    \"manifest-list\" : \"gs://gcs-bucket-iceberg-hms-928505941962-71d67f3e-cf27-4b25-a996-86a/hive-warehouse/loan_db.db/loans_by_state_iceberg/metadata/snap-2697368997376323351-1-cf61b81b-a797-4f85-9b06-81472ed49468.avro\",\n",
      "    \"schema-id\" : 0\n",
      "  } ],\n",
      "  \"statistics\" : [ ],\n",
      "  \"snapshot-log\" : [ {\n",
      "    \"timestamp-ms\" : 1676042776364,\n",
      "    \"snapshot-id\" : 3648627921780331930\n",
      "  }, {\n",
      "    \"timestamp-ms\" : 1676068185022,\n",
      "    \"snapshot-id\" : 5222601969543758311\n",
      "  }, {\n",
      "    \"timestamp-ms\" : 1676068386455,\n",
      "    \"snapshot-id\" : 9145457862466461068\n",
      "  }, {\n",
      "    \"timestamp-ms\" : 1676068511244,\n",
      "    \"snapshot-id\" : 8627182030940064924\n",
      "  }, {\n",
      "    \"timestamp-ms\" : 1676068590093,\n",
      "    \"snapshot-id\" : 2697368997376323351\n",
      "  } ],\n",
      "  \"metadata-log\" : [ {\n",
      "    \"timestamp-ms\" : 1676042776364,\n",
      "    \"metadata-file\" : \"gs://gcs-bucket-iceberg-hms-928505941962-71d67f3e-cf27-4b25-a996-86a/hive-warehouse/loan_db.db/loans_by_state_iceberg/metadata/00000-e9f97377-9cf7-4d6b-a97f-cde34a16cb51.metadata.json\"\n",
      "  }, {\n",
      "    \"timestamp-ms\" : 1676068185022,\n",
      "    \"metadata-file\" : \"gs://gcs-bucket-iceberg-hms-928505941962-71d67f3e-cf27-4b25-a996-86a/hive-warehouse/loan_db.db/loans_by_state_iceberg/metadata/00001-3278c0db-1d9d-4483-9b6f-e6fe9bc799c1.metadata.json\"\n",
      "  }, {\n",
      "    \"timestamp-ms\" : 1676068386455,\n",
      "    \"metadata-file\" : \"gs://gcs-bucket-iceberg-hms-928505941962-71d67f3e-cf27-4b25-a996-86a/hive-warehouse/loan_db.db/loans_by_state_iceberg/metadata/00002-bc68f99b-7d12-4b18-a2b2-e9c9e745cbfe.metadata.json\"\n",
      "  }, {\n",
      "    \"timestamp-ms\" : 1676068511244,\n",
      "    \"metadata-file\" : \"gs://gcs-bucket-iceberg-hms-928505941962-71d67f3e-cf27-4b25-a996-86a/hive-warehouse/loan_db.db/loans_by_state_iceberg/metadata/00003-b3d4f2b7-aa02-4b21-b475-9b2dc02441e7.metadata.json\"\n",
      "  } ]\n",
      "}"
     ]
    }
   ],
   "source": [
    "#Fetching the latest metadata file\n",
    "\n",
    "latest_metadata = !gsutil ls  $HIVE_METASTORE_WAREHOUSE_DIR/loan_db.db/{TABLE_NAME}/metadata/*.metadata.json | tail -1\n",
    "LATEST_METADATA_FILE = latest_metadata[0]\n",
    "print(\"LATEST_METADATA_FILE\", LATEST_METADATA_FILE)\n",
    "\n",
    "!gsutil cat {LATEST_METADATA_FILE} "
   ]
  },
  {
   "cell_type": "markdown",
   "id": "6f782eb2-05c8-497b-8023-65a394e6f7cf",
   "metadata": {},
   "source": [
    "**NOTE:**\n",
    "INSERT OVERWRITE operation performs an atomic overwrite on the data file.\n",
    "Notice the operation summary of the current snapshot in above metadata file"
   ]
  },
  {
   "cell_type": "markdown",
   "id": "b9631ffd-dc27-45ba-b629-cd91abd9fc24",
   "metadata": {},
   "source": [
    "### 8. MERGE INTO Operation"
   ]
  },
  {
   "cell_type": "code",
   "execution_count": 36,
   "id": "3b37f749-51b6-4b0e-b1d9-37407383590f",
   "metadata": {},
   "outputs": [
    {
     "name": "stdout",
     "output_type": "stream",
     "text": [
      "+----------+----------+\n",
      "|addr_state|loan_count|\n",
      "+----------+----------+\n",
      "|        CA|     11111|\n",
      "|        IA|     11111|\n",
      "|        IN|     11111|\n",
      "+----------+----------+\n",
      "\n"
     ]
    }
   ],
   "source": [
    "#Create a Source Dataframe to merge\n",
    "toBeMergedRows = [('IA', 11111), ('CA', 11111), ('IN', 11111)]\n",
    "toBeMergedColumns = ['addr_state', 'loan_count']\n",
    "toBeMergedDF = spark.createDataFrame(toBeMergedRows, toBeMergedColumns)\n",
    "toBeMergedDF.createOrReplaceTempView(\"to_be_merged_table\")\n",
    "toBeMergedDF.orderBy(\"addr_state\").show(3)"
   ]
  },
  {
   "cell_type": "code",
   "execution_count": 33,
   "id": "c8262dc4-cfe5-478e-af6a-b62cd6cd273a",
   "metadata": {},
   "outputs": [
    {
     "name": "stdout",
     "output_type": "stream",
     "text": [
      "+----------+----------+\n",
      "|addr_state|loan_count|\n",
      "+----------+----------+\n",
      "|IN        |7511      |\n",
      "+----------+----------+\n",
      "\n"
     ]
    }
   ],
   "source": [
    "#Iceberg Table before merging\n",
    "spark.sql(f\"SELECT addr_state,loan_count FROM {FQTN} WHERE addr_state in ('IA','CA','IN') ORDER BY addr_state\").show(truncate=False)"
   ]
  },
  {
   "cell_type": "code",
   "execution_count": 34,
   "id": "c845dc15-f7dd-4c47-924f-cea130ba7c1d",
   "metadata": {},
   "outputs": [
    {
     "name": "stdout",
     "output_type": "stream",
     "text": [
      "MERGE INTO loan_db.loans_by_state_iceberg as d USING to_be_merged_table as m ON (d.addr_state = m.addr_state) WHEN MATCHED THEN UPDATE SET * WHEN NOT MATCHED THEN INSERT * \n"
     ]
    }
   ],
   "source": [
    "#build merge statement\n",
    "mergeSQLStatement = f\"MERGE INTO {FQTN} as d USING to_be_merged_table as m ON (d.addr_state = m.addr_state) WHEN MATCHED THEN UPDATE SET * WHEN NOT MATCHED THEN INSERT * \"\n",
    "\n",
    "print(mergeSQLStatement)"
   ]
  },
  {
   "cell_type": "code",
   "execution_count": 37,
   "id": "23f73ea1-f822-49e7-97b1-9cfdfea0e878",
   "metadata": {},
   "outputs": [
    {
     "name": "stdout",
     "output_type": "stream",
     "text": [
      "++\n",
      "||\n",
      "++\n",
      "++\n",
      "\n"
     ]
    }
   ],
   "source": [
    "spark.sql(mergeSQLStatement).show(truncate=False)"
   ]
  },
  {
   "cell_type": "code",
   "execution_count": 39,
   "id": "76acae37-2f19-4fbe-a17f-fd2ad8bbeed1",
   "metadata": {},
   "outputs": [
    {
     "name": "stdout",
     "output_type": "stream",
     "text": [
      "+----------+----------+\n",
      "|addr_state|loan_count|\n",
      "+----------+----------+\n",
      "|CA        |11111     |\n",
      "|IA        |11111     |\n",
      "|IN        |11111     |\n",
      "+----------+----------+\n",
      "\n"
     ]
    }
   ],
   "source": [
    "# Iceberg Table \n",
    "spark.sql(f\"SELECT addr_state,loan_count FROM {FQTN} WHERE addr_state in ('IA','CA','IN') ORDER BY addr_state\").show(truncate=False)"
   ]
  },
  {
   "cell_type": "code",
   "execution_count": 40,
   "id": "aca0b5ad-b029-46da-82a6-bfce0d9d538e",
   "metadata": {},
   "outputs": [
    {
     "name": "stdout",
     "output_type": "stream",
     "text": [
      "gs://gcs-bucket-iceberg-hms-928505941962-71d67f3e-cf27-4b25-a996-86a/hive-warehouse/loan_db.db/loans_by_state_iceberg/:\n",
      "\n",
      "gs://gcs-bucket-iceberg-hms-928505941962-71d67f3e-cf27-4b25-a996-86a/hive-warehouse/loan_db.db/loans_by_state_iceberg/data/:\n",
      "gs://gcs-bucket-iceberg-hms-928505941962-71d67f3e-cf27-4b25-a996-86a/hive-warehouse/loan_db.db/loans_by_state_iceberg/data/00000-2-b2d1021e-d3ad-4aff-baa7-1c740e8a3144-00001.parquet\n",
      "gs://gcs-bucket-iceberg-hms-928505941962-71d67f3e-cf27-4b25-a996-86a/hive-warehouse/loan_db.db/loans_by_state_iceberg/data/00000-205-c4327bde-de7b-4bb7-a2fe-cb90b1c77623-00001.parquet\n",
      "gs://gcs-bucket-iceberg-hms-928505941962-71d67f3e-cf27-4b25-a996-86a/hive-warehouse/loan_db.db/loans_by_state_iceberg/data/00000-410-3265a2ac-0164-4598-a86e-03a63e191071-00001.parquet\n",
      "gs://gcs-bucket-iceberg-hms-928505941962-71d67f3e-cf27-4b25-a996-86a/hive-warehouse/loan_db.db/loans_by_state_iceberg/data/00000-457-db97e1c8-4cc1-4098-94d7-a1172491a65c-00001.parquet\n",
      "gs://gcs-bucket-iceberg-hms-928505941962-71d67f3e-cf27-4b25-a996-86a/hive-warehouse/loan_db.db/loans_by_state_iceberg/data/00054-4-595dbb6c-4517-4463-91be-a1b513cf82f2-00001.parquet\n",
      "gs://gcs-bucket-iceberg-hms-928505941962-71d67f3e-cf27-4b25-a996-86a/hive-warehouse/loan_db.db/loans_by_state_iceberg/data/00130-209-e5d9f868-2616-41fc-9233-464482068f34-00001.parquet\n",
      "\n",
      "gs://gcs-bucket-iceberg-hms-928505941962-71d67f3e-cf27-4b25-a996-86a/hive-warehouse/loan_db.db/loans_by_state_iceberg/metadata/:\n",
      "gs://gcs-bucket-iceberg-hms-928505941962-71d67f3e-cf27-4b25-a996-86a/hive-warehouse/loan_db.db/loans_by_state_iceberg/metadata/00000-e9f97377-9cf7-4d6b-a97f-cde34a16cb51.metadata.json\n",
      "gs://gcs-bucket-iceberg-hms-928505941962-71d67f3e-cf27-4b25-a996-86a/hive-warehouse/loan_db.db/loans_by_state_iceberg/metadata/00001-3278c0db-1d9d-4483-9b6f-e6fe9bc799c1.metadata.json\n",
      "gs://gcs-bucket-iceberg-hms-928505941962-71d67f3e-cf27-4b25-a996-86a/hive-warehouse/loan_db.db/loans_by_state_iceberg/metadata/00002-bc68f99b-7d12-4b18-a2b2-e9c9e745cbfe.metadata.json\n",
      "gs://gcs-bucket-iceberg-hms-928505941962-71d67f3e-cf27-4b25-a996-86a/hive-warehouse/loan_db.db/loans_by_state_iceberg/metadata/00003-b3d4f2b7-aa02-4b21-b475-9b2dc02441e7.metadata.json\n",
      "gs://gcs-bucket-iceberg-hms-928505941962-71d67f3e-cf27-4b25-a996-86a/hive-warehouse/loan_db.db/loans_by_state_iceberg/metadata/00004-1f15486a-5485-4bdf-aefb-e1b7a9da220f.metadata.json\n",
      "gs://gcs-bucket-iceberg-hms-928505941962-71d67f3e-cf27-4b25-a996-86a/hive-warehouse/loan_db.db/loans_by_state_iceberg/metadata/00005-11ccc425-46bd-4e46-a9e8-8606b7dbc16a.metadata.json\n",
      "gs://gcs-bucket-iceberg-hms-928505941962-71d67f3e-cf27-4b25-a996-86a/hive-warehouse/loan_db.db/loans_by_state_iceberg/metadata/60274643-cd8c-4f7c-b037-4ada16053ca9-m0.avro\n",
      "gs://gcs-bucket-iceberg-hms-928505941962-71d67f3e-cf27-4b25-a996-86a/hive-warehouse/loan_db.db/loans_by_state_iceberg/metadata/60274643-cd8c-4f7c-b037-4ada16053ca9-m1.avro\n",
      "gs://gcs-bucket-iceberg-hms-928505941962-71d67f3e-cf27-4b25-a996-86a/hive-warehouse/loan_db.db/loans_by_state_iceberg/metadata/6d82bf31-6b44-4f47-bdf1-6567080cbaa4-m0.avro\n",
      "gs://gcs-bucket-iceberg-hms-928505941962-71d67f3e-cf27-4b25-a996-86a/hive-warehouse/loan_db.db/loans_by_state_iceberg/metadata/6d82bf31-6b44-4f47-bdf1-6567080cbaa4-m1.avro\n",
      "gs://gcs-bucket-iceberg-hms-928505941962-71d67f3e-cf27-4b25-a996-86a/hive-warehouse/loan_db.db/loans_by_state_iceberg/metadata/b4bce2b6-d0e0-440f-a879-f2cc876fe580-m0.avro\n",
      "gs://gcs-bucket-iceberg-hms-928505941962-71d67f3e-cf27-4b25-a996-86a/hive-warehouse/loan_db.db/loans_by_state_iceberg/metadata/b4bce2b6-d0e0-440f-a879-f2cc876fe580-m1.avro\n",
      "gs://gcs-bucket-iceberg-hms-928505941962-71d67f3e-cf27-4b25-a996-86a/hive-warehouse/loan_db.db/loans_by_state_iceberg/metadata/bbe9674b-8463-4473-9361-7cff8e15023e-m0.avro\n",
      "gs://gcs-bucket-iceberg-hms-928505941962-71d67f3e-cf27-4b25-a996-86a/hive-warehouse/loan_db.db/loans_by_state_iceberg/metadata/cf61b81b-a797-4f85-9b06-81472ed49468-m0.avro\n",
      "gs://gcs-bucket-iceberg-hms-928505941962-71d67f3e-cf27-4b25-a996-86a/hive-warehouse/loan_db.db/loans_by_state_iceberg/metadata/cf61b81b-a797-4f85-9b06-81472ed49468-m1.avro\n",
      "gs://gcs-bucket-iceberg-hms-928505941962-71d67f3e-cf27-4b25-a996-86a/hive-warehouse/loan_db.db/loans_by_state_iceberg/metadata/cf61b81b-a797-4f85-9b06-81472ed49468-m2.avro\n",
      "gs://gcs-bucket-iceberg-hms-928505941962-71d67f3e-cf27-4b25-a996-86a/hive-warehouse/loan_db.db/loans_by_state_iceberg/metadata/d37b2f20-215b-4690-9fdf-1e59a8e68f24-m0.avro\n",
      "gs://gcs-bucket-iceberg-hms-928505941962-71d67f3e-cf27-4b25-a996-86a/hive-warehouse/loan_db.db/loans_by_state_iceberg/metadata/snap-2697368997376323351-1-cf61b81b-a797-4f85-9b06-81472ed49468.avro\n",
      "gs://gcs-bucket-iceberg-hms-928505941962-71d67f3e-cf27-4b25-a996-86a/hive-warehouse/loan_db.db/loans_by_state_iceberg/metadata/snap-3648627921780331930-1-d37b2f20-215b-4690-9fdf-1e59a8e68f24.avro\n",
      "gs://gcs-bucket-iceberg-hms-928505941962-71d67f3e-cf27-4b25-a996-86a/hive-warehouse/loan_db.db/loans_by_state_iceberg/metadata/snap-5222601969543758311-1-b4bce2b6-d0e0-440f-a879-f2cc876fe580.avro\n",
      "gs://gcs-bucket-iceberg-hms-928505941962-71d67f3e-cf27-4b25-a996-86a/hive-warehouse/loan_db.db/loans_by_state_iceberg/metadata/snap-5865803199727045458-1-60274643-cd8c-4f7c-b037-4ada16053ca9.avro\n",
      "gs://gcs-bucket-iceberg-hms-928505941962-71d67f3e-cf27-4b25-a996-86a/hive-warehouse/loan_db.db/loans_by_state_iceberg/metadata/snap-8627182030940064924-1-6d82bf31-6b44-4f47-bdf1-6567080cbaa4.avro\n",
      "gs://gcs-bucket-iceberg-hms-928505941962-71d67f3e-cf27-4b25-a996-86a/hive-warehouse/loan_db.db/loans_by_state_iceberg/metadata/snap-9145457862466461068-1-bbe9674b-8463-4473-9361-7cff8e15023e.avro\n"
     ]
    },
    {
     "name": "stderr",
     "output_type": "stream",
     "text": [
      "23/02/10 22:46:36 WARN JavaUtils: Attempt to delete using native Unix OS command failed for path = /var/tmp/spark/local-dir/blockmgr-77e65e46-a4ea-4ec4-b7cf-132abf558eb6. Falling back to Java IO way\n",
      "java.io.IOException: Failed to delete: /var/tmp/spark/local-dir/blockmgr-77e65e46-a4ea-4ec4-b7cf-132abf558eb6\n",
      "\tat org.apache.spark.network.util.JavaUtils.deleteRecursivelyUsingUnixNative(JavaUtils.java:171)\n",
      "\tat org.apache.spark.network.util.JavaUtils.deleteRecursively(JavaUtils.java:110)\n",
      "\tat org.apache.spark.network.util.JavaUtils.deleteRecursively(JavaUtils.java:91)\n",
      "\tat org.apache.spark.util.Utils$.deleteRecursively(Utils.scala:1193)\n",
      "\tat org.apache.spark.storage.DiskBlockManager.$anonfun$doStop$1(DiskBlockManager.scala:318)\n",
      "\tat org.apache.spark.storage.DiskBlockManager.$anonfun$doStop$1$adapted(DiskBlockManager.scala:314)\n",
      "\tat scala.collection.IndexedSeqOptimized.foreach(IndexedSeqOptimized.scala:36)\n",
      "\tat scala.collection.IndexedSeqOptimized.foreach$(IndexedSeqOptimized.scala:33)\n",
      "\tat scala.collection.mutable.ArrayOps$ofRef.foreach(ArrayOps.scala:198)\n",
      "\tat org.apache.spark.storage.DiskBlockManager.doStop(DiskBlockManager.scala:314)\n",
      "\tat org.apache.spark.storage.DiskBlockManager.$anonfun$addShutdownHook$2(DiskBlockManager.scala:296)\n",
      "\tat org.apache.spark.util.SparkShutdownHook.run(ShutdownHookManager.scala:214)\n",
      "\tat org.apache.spark.util.SparkShutdownHookManager.$anonfun$runAll$2(ShutdownHookManager.scala:188)\n",
      "\tat scala.runtime.java8.JFunction0$mcV$sp.apply(JFunction0$mcV$sp.java:23)\n",
      "\tat org.apache.spark.util.Utils$.logUncaughtExceptions(Utils.scala:2048)\n",
      "\tat org.apache.spark.util.SparkShutdownHookManager.$anonfun$runAll$1(ShutdownHookManager.scala:188)\n",
      "\tat scala.runtime.java8.JFunction0$mcV$sp.apply(JFunction0$mcV$sp.java:23)\n",
      "\tat scala.util.Try$.apply(Try.scala:213)\n",
      "\tat org.apache.spark.util.SparkShutdownHookManager.runAll(ShutdownHookManager.scala:188)\n",
      "\tat org.apache.spark.util.SparkShutdownHookManager$$anon$2.run(ShutdownHookManager.scala:178)\n",
      "\tat java.base/java.util.concurrent.Executors$RunnableAdapter.call(Executors.java:515)\n",
      "\tat java.base/java.util.concurrent.FutureTask.run(FutureTask.java:264)\n",
      "\tat java.base/java.util.concurrent.ThreadPoolExecutor.runWorker(ThreadPoolExecutor.java:1128)\n",
      "\tat java.base/java.util.concurrent.ThreadPoolExecutor$Worker.run(ThreadPoolExecutor.java:628)\n",
      "\tat java.base/java.lang.Thread.run(Thread.java:829)\n",
      "23/02/10 22:46:36 WARN JavaUtils: Attempt to delete using native Unix OS command failed for path = /var/tmp/spark/local-dir/blockmgr-77e65e46-a4ea-4ec4-b7cf-132abf558eb6/22. Falling back to Java IO way\n",
      "java.io.IOException: Failed to delete: /var/tmp/spark/local-dir/blockmgr-77e65e46-a4ea-4ec4-b7cf-132abf558eb6/22\n",
      "\tat org.apache.spark.network.util.JavaUtils.deleteRecursivelyUsingUnixNative(JavaUtils.java:171)\n",
      "\tat org.apache.spark.network.util.JavaUtils.deleteRecursively(JavaUtils.java:110)\n",
      "\tat org.apache.spark.network.util.JavaUtils.deleteRecursivelyUsingJavaIO(JavaUtils.java:128)\n",
      "\tat org.apache.spark.network.util.JavaUtils.deleteRecursively(JavaUtils.java:118)\n",
      "\tat org.apache.spark.network.util.JavaUtils.deleteRecursively(JavaUtils.java:91)\n",
      "\tat org.apache.spark.util.Utils$.deleteRecursively(Utils.scala:1193)\n",
      "\tat org.apache.spark.storage.DiskBlockManager.$anonfun$doStop$1(DiskBlockManager.scala:318)\n",
      "\tat org.apache.spark.storage.DiskBlockManager.$anonfun$doStop$1$adapted(DiskBlockManager.scala:314)\n",
      "\tat scala.collection.IndexedSeqOptimized.foreach(IndexedSeqOptimized.scala:36)\n",
      "\tat scala.collection.IndexedSeqOptimized.foreach$(IndexedSeqOptimized.scala:33)\n",
      "\tat scala.collection.mutable.ArrayOps$ofRef.foreach(ArrayOps.scala:198)\n",
      "\tat org.apache.spark.storage.DiskBlockManager.doStop(DiskBlockManager.scala:314)\n",
      "\tat org.apache.spark.storage.DiskBlockManager.$anonfun$addShutdownHook$2(DiskBlockManager.scala:296)\n",
      "\tat org.apache.spark.util.SparkShutdownHook.run(ShutdownHookManager.scala:214)\n",
      "\tat org.apache.spark.util.SparkShutdownHookManager.$anonfun$runAll$2(ShutdownHookManager.scala:188)\n",
      "\tat scala.runtime.java8.JFunction0$mcV$sp.apply(JFunction0$mcV$sp.java:23)\n",
      "\tat org.apache.spark.util.Utils$.logUncaughtExceptions(Utils.scala:2048)\n",
      "\tat org.apache.spark.util.SparkShutdownHookManager.$anonfun$runAll$1(ShutdownHookManager.scala:188)\n",
      "\tat scala.runtime.java8.JFunction0$mcV$sp.apply(JFunction0$mcV$sp.java:23)\n",
      "\tat scala.util.Try$.apply(Try.scala:213)\n",
      "\tat org.apache.spark.util.SparkShutdownHookManager.runAll(ShutdownHookManager.scala:188)\n",
      "\tat org.apache.spark.util.SparkShutdownHookManager$$anon$2.run(ShutdownHookManager.scala:178)\n",
      "\tat java.base/java.util.concurrent.Executors$RunnableAdapter.call(Executors.java:515)\n",
      "\tat java.base/java.util.concurrent.FutureTask.run(FutureTask.java:264)\n",
      "\tat java.base/java.util.concurrent.ThreadPoolExecutor.runWorker(ThreadPoolExecutor.java:1128)\n",
      "\tat java.base/java.util.concurrent.ThreadPoolExecutor$Worker.run(ThreadPoolExecutor.java:628)\n",
      "\tat java.base/java.lang.Thread.run(Thread.java:829)\n",
      "23/02/10 22:46:36 WARN JavaUtils: Attempt to delete using native Unix OS command failed for path = /var/tmp/spark/local-dir/blockmgr-77e65e46-a4ea-4ec4-b7cf-132abf558eb6/16. Falling back to Java IO way\n",
      "java.io.IOException: Failed to delete: /var/tmp/spark/local-dir/blockmgr-77e65e46-a4ea-4ec4-b7cf-132abf558eb6/16\n",
      "\tat org.apache.spark.network.util.JavaUtils.deleteRecursivelyUsingUnixNative(JavaUtils.java:171)\n",
      "\tat org.apache.spark.network.util.JavaUtils.deleteRecursively(JavaUtils.java:110)\n",
      "\tat org.apache.spark.network.util.JavaUtils.deleteRecursivelyUsingJavaIO(JavaUtils.java:128)\n",
      "\tat org.apache.spark.network.util.JavaUtils.deleteRecursively(JavaUtils.java:118)\n",
      "\tat org.apache.spark.network.util.JavaUtils.deleteRecursively(JavaUtils.java:91)\n",
      "\tat org.apache.spark.util.Utils$.deleteRecursively(Utils.scala:1193)\n",
      "\tat org.apache.spark.storage.DiskBlockManager.$anonfun$doStop$1(DiskBlockManager.scala:318)\n",
      "\tat org.apache.spark.storage.DiskBlockManager.$anonfun$doStop$1$adapted(DiskBlockManager.scala:314)\n",
      "\tat scala.collection.IndexedSeqOptimized.foreach(IndexedSeqOptimized.scala:36)\n",
      "\tat scala.collection.IndexedSeqOptimized.foreach$(IndexedSeqOptimized.scala:33)\n",
      "\tat scala.collection.mutable.ArrayOps$ofRef.foreach(ArrayOps.scala:198)\n",
      "\tat org.apache.spark.storage.DiskBlockManager.doStop(DiskBlockManager.scala:314)\n",
      "\tat org.apache.spark.storage.DiskBlockManager.$anonfun$addShutdownHook$2(DiskBlockManager.scala:296)\n",
      "\tat org.apache.spark.util.SparkShutdownHook.run(ShutdownHookManager.scala:214)\n",
      "\tat org.apache.spark.util.SparkShutdownHookManager.$anonfun$runAll$2(ShutdownHookManager.scala:188)\n",
      "\tat scala.runtime.java8.JFunction0$mcV$sp.apply(JFunction0$mcV$sp.java:23)\n",
      "\tat org.apache.spark.util.Utils$.logUncaughtExceptions(Utils.scala:2048)\n",
      "\tat org.apache.spark.util.SparkShutdownHookManager.$anonfun$runAll$1(ShutdownHookManager.scala:188)\n",
      "\tat scala.runtime.java8.JFunction0$mcV$sp.apply(JFunction0$mcV$sp.java:23)\n",
      "\tat scala.util.Try$.apply(Try.scala:213)\n",
      "\tat org.apache.spark.util.SparkShutdownHookManager.runAll(ShutdownHookManager.scala:188)\n",
      "\tat org.apache.spark.util.SparkShutdownHookManager$$anon$2.run(ShutdownHookManager.scala:178)\n",
      "\tat java.base/java.util.concurrent.Executors$RunnableAdapter.call(Executors.java:515)\n",
      "\tat java.base/java.util.concurrent.FutureTask.run(FutureTask.java:264)\n",
      "\tat java.base/java.util.concurrent.ThreadPoolExecutor.runWorker(ThreadPoolExecutor.java:1128)\n",
      "\tat java.base/java.util.concurrent.ThreadPoolExecutor$Worker.run(ThreadPoolExecutor.java:628)\n",
      "\tat java.base/java.lang.Thread.run(Thread.java:829)\n",
      "23/02/10 22:46:36 WARN JavaUtils: Attempt to delete using native Unix OS command failed for path = /var/tmp/spark/local-dir/spark-8d81461c-6cf3-4102-867b-e1bbbe6ed614. Falling back to Java IO way\n",
      "java.io.IOException: Failed to delete: /var/tmp/spark/local-dir/spark-8d81461c-6cf3-4102-867b-e1bbbe6ed614\n",
      "\tat org.apache.spark.network.util.JavaUtils.deleteRecursivelyUsingUnixNative(JavaUtils.java:171)\n",
      "\tat org.apache.spark.network.util.JavaUtils.deleteRecursively(JavaUtils.java:110)\n",
      "\tat org.apache.spark.network.util.JavaUtils.deleteRecursively(JavaUtils.java:91)\n",
      "\tat org.apache.spark.util.Utils$.deleteRecursively(Utils.scala:1193)\n",
      "\tat org.apache.spark.util.ShutdownHookManager$.$anonfun$new$4(ShutdownHookManager.scala:65)\n",
      "\tat org.apache.spark.util.ShutdownHookManager$.$anonfun$new$4$adapted(ShutdownHookManager.scala:62)\n",
      "\tat scala.collection.IndexedSeqOptimized.foreach(IndexedSeqOptimized.scala:36)\n",
      "\tat scala.collection.IndexedSeqOptimized.foreach$(IndexedSeqOptimized.scala:33)\n",
      "\tat scala.collection.mutable.ArrayOps$ofRef.foreach(ArrayOps.scala:198)\n",
      "\tat org.apache.spark.util.ShutdownHookManager$.$anonfun$new$2(ShutdownHookManager.scala:62)\n",
      "\tat org.apache.spark.util.SparkShutdownHook.run(ShutdownHookManager.scala:214)\n",
      "\tat org.apache.spark.util.SparkShutdownHookManager.$anonfun$runAll$2(ShutdownHookManager.scala:188)\n",
      "\tat scala.runtime.java8.JFunction0$mcV$sp.apply(JFunction0$mcV$sp.java:23)\n",
      "\tat org.apache.spark.util.Utils$.logUncaughtExceptions(Utils.scala:2048)\n",
      "\tat org.apache.spark.util.SparkShutdownHookManager.$anonfun$runAll$1(ShutdownHookManager.scala:188)\n",
      "\tat scala.runtime.java8.JFunction0$mcV$sp.apply(JFunction0$mcV$sp.java:23)\n",
      "\tat scala.util.Try$.apply(Try.scala:213)\n",
      "\tat org.apache.spark.util.SparkShutdownHookManager.runAll(ShutdownHookManager.scala:188)\n",
      "\tat org.apache.spark.util.SparkShutdownHookManager$$anon$2.run(ShutdownHookManager.scala:178)\n",
      "\tat java.base/java.util.concurrent.Executors$RunnableAdapter.call(Executors.java:515)\n",
      "\tat java.base/java.util.concurrent.FutureTask.run(FutureTask.java:264)\n",
      "\tat java.base/java.util.concurrent.ThreadPoolExecutor.runWorker(ThreadPoolExecutor.java:1128)\n",
      "\tat java.base/java.util.concurrent.ThreadPoolExecutor$Worker.run(ThreadPoolExecutor.java:628)\n",
      "\tat java.base/java.lang.Thread.run(Thread.java:829)\n",
      "----------------------------------------\n",
      "Exception occurred during processing of request from ('127.0.0.1', 57970)\n",
      "ERROR:root:Exception while sending command.\n",
      "Traceback (most recent call last):\n",
      "  File \"/usr/lib/spark/python/lib/py4j-0.10.9.5-src.zip/py4j/clientserver.py\", line 516, in send_command\n",
      "    raise Py4JNetworkError(\"Answer from Java side is empty\")\n",
      "py4j.protocol.Py4JNetworkError: Answer from Java side is empty\n",
      "\n",
      "During handling of the above exception, another exception occurred:\n",
      "\n",
      "Traceback (most recent call last):\n",
      "  File \"/usr/lib/spark/python/lib/py4j-0.10.9.5-src.zip/py4j/java_gateway.py\", line 1038, in send_command\n",
      "    response = connection.send_command(command)\n",
      "  File \"/usr/lib/spark/python/lib/py4j-0.10.9.5-src.zip/py4j/clientserver.py\", line 539, in send_command\n",
      "    raise Py4JNetworkError(\n",
      "py4j.protocol.Py4JNetworkError: Error while sending or receiving\n"
     ]
    }
   ],
   "source": [
    "# Merge created new set of files \n",
    "!gsutil ls -r $HIVE_METASTORE_WAREHOUSE_DIR/loan_db.db/{TABLE_NAME}/"
   ]
  },
  {
   "cell_type": "markdown",
   "id": "038d5201-b299-4ba7-b8e2-eb3dea090421",
   "metadata": {},
   "source": [
    "### THIS CONCLUDES THIS UNIT. PROCEED TO THE NEXT NOTEBOOK"
   ]
  }
 ],
 "metadata": {
  "language_info": {
   "codemirror_mode": {
    "name": "ipython",
    "version": 3
   },
   "file_extension": ".py",
   "mimetype": "text/x-python",
   "name": "python",
   "nbconvert_exporter": "python",
   "pygments_lexer": "ipython3",
   "version": "3.9.15"
  },
  "serverless_spark": "{\"name\":\"projects/nikhim-iceberg-lab/locations/us-central1/sessions/iceberg-lab-21148\",\"uuid\":\"6f0318c1-a7df-4fe3-94cf-9975cfbf72e0\",\"createTime\":\"2023-02-10T22:23:37.228833Z\",\"jupyterSession\":{},\"spark\":{},\"runtimeInfo\":{\"endpoints\":{\"Spark History Server\":\"https://7suwyw62lfbjhcvtckfaxhuxcm-dot-us-central1.dataproc.googleusercontent.com/sparkhistory/?eventLogDirFilter=6f0318c1-a7df-4fe3-94cf-9975cfbf72e0\"}},\"state\":\"ACTIVE\",\"stateTime\":\"2023-02-10T22:24:33.846420Z\",\"creator\":\"nikhim@google.com\",\"runtimeConfig\":{\"version\":\"1.0.29\",\"properties\":{\"spark:spark.jars.packages\":\"org.apache.iceberg:iceberg-spark-runtime-3.2_2.12:1.1.0\",\"spark:spark.sql.catalog.hdp_ctlg\":\"org.apache.iceberg.spark.SparkCatalog\",\"spark:spark.sql.catalog.hdp_ctlg.type\":\"hadoop\",\"spark:spark.sql.catalog.hdp_ctlg.warehouse\":\"gs://iceberg-spark-bucket-928505941962/iceberg-warehouse-dir\",\"spark:spark.sql.catalog.spark_catalog\":\"org.apache.iceberg.spark.SparkSessionCatalog\",\"spark:spark.sql.catalog.spark_catalog.type\":\"hive\",\"spark:spark.sql.extensions\":\"org.apache.iceberg.spark.extensions.IcebergSparkSessionExtensions\",\"spark:spark.executor.instances\":\"2\",\"spark:spark.driver.cores\":\"4\",\"spark:spark.executor.cores\":\"4\",\"spark:spark.dynamicAllocation.executorAllocationRatio\":\"0.3\",\"spark:spark.eventLog.dir\":\"gs://iceberg-sphs-bucket-928505941962/6f0318c1-a7df-4fe3-94cf-9975cfbf72e0/spark-job-history\"}},\"environmentConfig\":{\"executionConfig\":{\"serviceAccount\":\"iceberg-lab-sa@nikhim-iceberg-lab.iam.gserviceaccount.com\",\"subnetworkUri\":\"spark-subnet\",\"idleTtl\":\"14400s\"},\"peripheralsConfig\":{\"metastoreService\":\"projects/nikhim-iceberg-lab/locations/us-central1/services/iceberg-hms-928505941962\",\"sparkHistoryServerConfig\":{\"dataprocCluster\":\"projects/nikhim-iceberg-lab/regions/us-central1/clusters/iceberg-sphs-928505941962\"}}},\"stateHistory\":[{\"state\":\"CREATING\",\"stateStartTime\":\"2023-02-10T22:23:37.228833Z\"}]}",
  "serverless_spark_kernel_name": "remote-54476d9b9a4e3729c940cef9-pyspark",
  "vscode": {
   "interpreter": {
    "hash": "aee8b7b246df8f9039afb4144a1f6fd8d2ca17a180786b69acc140d282b71a49"
   }
  }
 },
 "nbformat": 4,
 "nbformat_minor": 5
}
